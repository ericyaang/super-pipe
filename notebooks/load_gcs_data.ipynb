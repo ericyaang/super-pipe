{
 "cells": [
  {
   "cell_type": "markdown",
   "metadata": {},
   "source": [
    "# Querying data with Duckdb\n",
    "\n",
    "With the httpfs extension, it is possible to directly query files over HTTP(S).\n",
    "\n",
    "For parquet files, DuckDB can use a combination of the Parquet metadata and HTTP range requests to only download the parts of the file that are actually required by the query. \n",
    "\n",
    "https://duckdb.org/docs/extensions/httpfs\n",
    "\n",
    "\n",
    "### Dataset\n",
    "\n",
    "| Nome da Coluna  | Nome Original | Tipo de Dados | Descrição                                                |\n",
    "|-----------------|---------------|---------------|----------------------------------------------------------|\n",
    "| data            | date          | datetime64[ns]| Data do registro da coleta                               |\n",
    "| aisle_name      | aisle_name    | object        | Nome do corredor na loja                                 |\n",
    "| product_name    | product_name  | object        | Nome do produto                                          |\n",
    "| marca           | brand         | object        | Marca do produto                                         |\n",
    "| preço           | price         | float64       | Preço do produto em R$                                   |\n",
    "| pacote          | package       | object        | Informações da embalagem do produto (ml/kg/pacotes/etc)  |\n",
    "| nome_loja       | store_name    | object        | Nome da loja (mercado, farmácia, etc)                    |\n",
    "| cidade_loja     | store_city    | object        | Cidade onde a loja está localizada                       |\n",
    "| termo_pesquisa  | search_term   | object        | Termo de pesquisa usado para encontrar o produto pela API|\n"
   ]
  },
  {
   "cell_type": "code",
   "execution_count": null,
   "metadata": {},
   "outputs": [],
   "source": [
    "import pandas as pd\n",
    "\n",
    "from prefect_gcp.cloud_storage import GcsBucket\n",
    "from prefect_gcp import GcpCredentials"
   ]
  },
  {
   "cell_type": "code",
   "execution_count": null,
   "metadata": {},
   "outputs": [],
   "source": [
    "import duckdb\n",
    "from dotenv import load_dotenv\n",
    "import os\n",
    "\n",
    "duckdb.sql('INSTALL httpfs')\n",
    "duckdb.sql('LOAD httpfs')\n",
    "duckdb.sql(\"SET s3_endpoint='storage.googleapis.com'\")\n"
   ]
  },
  {
   "cell_type": "code",
   "execution_count": null,
   "metadata": {},
   "outputs": [],
   "source": [
    "\n",
    "# Load environment variables from .env file\n",
    "load_dotenv()\n",
    "\n",
    "# load data directory\n",
    "access = os.getenv(\"GCS_ACCESS_KEY\")\n",
    "secret = os.getenv(\"GCS_SECRET\")\n",
    "\n",
    "# load bucket name\n",
    "bucket_name = os.getenv(\"GCS_BUCKET_NAME\")\n",
    "\n",
    "# You will obtain the key_id from the previous step of \n",
    "# configuring settings in the Google Console.\n",
    "duckdb.sql(f\"SET s3_access_key_id='{access}'\") \n",
    "\n",
    "# You will obtain the secret_access_key from the previous step of \n",
    "# configuring settings in the Google Console.\n",
    "duckdb.sql(f\"SET s3_secret_access_key='{secret}'\") \n",
    "\n"
   ]
  },
  {
   "cell_type": "markdown",
   "metadata": {},
   "source": [
    "### /test-data"
   ]
  },
  {
   "cell_type": "code",
   "execution_count": null,
   "metadata": {},
   "outputs": [],
   "source": [
    "import time\n",
    "\n",
    "start_time = time.time()\n",
    "query = f\"SELECT * FROM 's3://{bucket_name}/test-data/19072023*/*.parquet'\"\n",
    "df = duckdb.sql(query).df()\n",
    "\n",
    "end_time = time.time()\n",
    "execution_time = (end_time - start_time) / 60\n",
    "print(f\"The query took {execution_time:.3f} seconds to execute.\")"
   ]
  },
  {
   "cell_type": "code",
   "execution_count": 50,
   "metadata": {},
   "outputs": [],
   "source": [
    "query = f\"SELECT * FROM 's3://{bucket_name}/test-data/search_term*.parquet'\"\n",
    "df_json = duckdb.sql(query).df()"
   ]
  },
  {
   "cell_type": "code",
   "execution_count": 51,
   "metadata": {},
   "outputs": [
    {
     "data": {
      "text/html": [
       "<div>\n",
       "<style scoped>\n",
       "    .dataframe tbody tr th:only-of-type {\n",
       "        vertical-align: middle;\n",
       "    }\n",
       "\n",
       "    .dataframe tbody tr th {\n",
       "        vertical-align: top;\n",
       "    }\n",
       "\n",
       "    .dataframe thead th {\n",
       "        text-align: right;\n",
       "    }\n",
       "</style>\n",
       "<table border=\"1\" class=\"dataframe\">\n",
       "  <thead>\n",
       "    <tr style=\"text-align: right;\">\n",
       "      <th></th>\n",
       "      <th>date</th>\n",
       "      <th>aisle_name</th>\n",
       "      <th>product_name</th>\n",
       "      <th>brand</th>\n",
       "      <th>price</th>\n",
       "      <th>package</th>\n",
       "      <th>store_name</th>\n",
       "      <th>store_city</th>\n",
       "      <th>search_term</th>\n",
       "    </tr>\n",
       "  </thead>\n",
       "  <tbody>\n",
       "    <tr>\n",
       "      <th>0</th>\n",
       "      <td>20-07-2023</td>\n",
       "      <td>Higiene bucal</td>\n",
       "      <td>Kit escova com creme dental sabor bubble fruit...</td>\n",
       "      <td>Colgate</td>\n",
       "      <td>24.90</td>\n",
       "      <td>2 itens</td>\n",
       "      <td>Droga Raia</td>\n",
       "      <td>FLN</td>\n",
       "      <td>Tamarillo</td>\n",
       "    </tr>\n",
       "    <tr>\n",
       "      <th>1</th>\n",
       "      <td>20-07-2023</td>\n",
       "      <td>Higiene bucal</td>\n",
       "      <td>Kit escova com creme dental sabor bubble fruit...</td>\n",
       "      <td>Colgate</td>\n",
       "      <td>27.49</td>\n",
       "      <td>2 itens</td>\n",
       "      <td>Panvel</td>\n",
       "      <td>FLN</td>\n",
       "      <td>Tamarillo</td>\n",
       "    </tr>\n",
       "    <tr>\n",
       "      <th>2</th>\n",
       "      <td>20-07-2023</td>\n",
       "      <td>Shampoo e condicionador</td>\n",
       "      <td>Shampoo crescimento forte desde a raiz</td>\n",
       "      <td>Head &amp; Shoulders</td>\n",
       "      <td>33.58</td>\n",
       "      <td>400ml</td>\n",
       "      <td>Pague Menos</td>\n",
       "      <td>FLN</td>\n",
       "      <td>Raiz-forte</td>\n",
       "    </tr>\n",
       "    <tr>\n",
       "      <th>3</th>\n",
       "      <td>20-07-2023</td>\n",
       "      <td>Shampoo e condicionador</td>\n",
       "      <td>Shampoo crescimento forte desde a raiz</td>\n",
       "      <td>Head &amp; Shoulders</td>\n",
       "      <td>22.03</td>\n",
       "      <td>200ml</td>\n",
       "      <td>Pague Menos</td>\n",
       "      <td>FLN</td>\n",
       "      <td>Raiz-forte</td>\n",
       "    </tr>\n",
       "    <tr>\n",
       "      <th>4</th>\n",
       "      <td>20-07-2023</td>\n",
       "      <td>Shampoo e condicionador</td>\n",
       "      <td>Shampoo PRO-V bambu Nutre e Cresce</td>\n",
       "      <td>Pantene</td>\n",
       "      <td>29.38</td>\n",
       "      <td>400ml</td>\n",
       "      <td>Pague Menos</td>\n",
       "      <td>FLN</td>\n",
       "      <td>Raiz-forte</td>\n",
       "    </tr>\n",
       "    <tr>\n",
       "      <th>...</th>\n",
       "      <td>...</td>\n",
       "      <td>...</td>\n",
       "      <td>...</td>\n",
       "      <td>...</td>\n",
       "      <td>...</td>\n",
       "      <td>...</td>\n",
       "      <td>...</td>\n",
       "      <td>...</td>\n",
       "      <td>...</td>\n",
       "    </tr>\n",
       "    <tr>\n",
       "      <th>490</th>\n",
       "      <td>20-07-2023</td>\n",
       "      <td>Produtos de limpeza banheiro e cozinha</td>\n",
       "      <td>Limpador concentrado perfumado pinho</td>\n",
       "      <td>Coala</td>\n",
       "      <td>17.90</td>\n",
       "      <td>120ml</td>\n",
       "      <td>Cobasi</td>\n",
       "      <td>FLN</td>\n",
       "      <td>Limpador de Cozinha</td>\n",
       "    </tr>\n",
       "    <tr>\n",
       "      <th>491</th>\n",
       "      <td>20-07-2023</td>\n",
       "      <td>Produtos de limpeza banheiro e cozinha</td>\n",
       "      <td>Limpador Perfumado Rose Petals</td>\n",
       "      <td>Sanol</td>\n",
       "      <td>6.90</td>\n",
       "      <td>500ml</td>\n",
       "      <td>Cobasi</td>\n",
       "      <td>FLN</td>\n",
       "      <td>Limpador de Cozinha</td>\n",
       "    </tr>\n",
       "    <tr>\n",
       "      <th>492</th>\n",
       "      <td>20-07-2023</td>\n",
       "      <td>Produtos de limpeza banheiro e cozinha</td>\n",
       "      <td>Limpador perfumado lavanda</td>\n",
       "      <td>Sanol</td>\n",
       "      <td>6.90</td>\n",
       "      <td>500ml</td>\n",
       "      <td>Cobasi</td>\n",
       "      <td>FLN</td>\n",
       "      <td>Limpador de Cozinha</td>\n",
       "    </tr>\n",
       "    <tr>\n",
       "      <th>493</th>\n",
       "      <td>20-07-2023</td>\n",
       "      <td>Produtos de limpeza banheiro e cozinha</td>\n",
       "      <td>Limpador para forno</td>\n",
       "      <td>Diabo Verde</td>\n",
       "      <td>33.90</td>\n",
       "      <td>440ml</td>\n",
       "      <td>Cobasi</td>\n",
       "      <td>FLN</td>\n",
       "      <td>Limpador de Cozinha</td>\n",
       "    </tr>\n",
       "    <tr>\n",
       "      <th>494</th>\n",
       "      <td>20-07-2023</td>\n",
       "      <td>Produtos de limpeza banheiro e cozinha</td>\n",
       "      <td>Limpador líquido</td>\n",
       "      <td>Lysoclin</td>\n",
       "      <td>13.90</td>\n",
       "      <td>1l</td>\n",
       "      <td>Cobasi</td>\n",
       "      <td>FLN</td>\n",
       "      <td>Limpador de Cozinha</td>\n",
       "    </tr>\n",
       "  </tbody>\n",
       "</table>\n",
       "<p>495 rows × 9 columns</p>\n",
       "</div>"
      ],
      "text/plain": [
       "           date                              aisle_name  \\\n",
       "0    20-07-2023                           Higiene bucal   \n",
       "1    20-07-2023                           Higiene bucal   \n",
       "2    20-07-2023                 Shampoo e condicionador   \n",
       "3    20-07-2023                 Shampoo e condicionador   \n",
       "4    20-07-2023                 Shampoo e condicionador   \n",
       "..          ...                                     ...   \n",
       "490  20-07-2023  Produtos de limpeza banheiro e cozinha   \n",
       "491  20-07-2023  Produtos de limpeza banheiro e cozinha   \n",
       "492  20-07-2023  Produtos de limpeza banheiro e cozinha   \n",
       "493  20-07-2023  Produtos de limpeza banheiro e cozinha   \n",
       "494  20-07-2023  Produtos de limpeza banheiro e cozinha   \n",
       "\n",
       "                                          product_name             brand  \\\n",
       "0    Kit escova com creme dental sabor bubble fruit...           Colgate   \n",
       "1    Kit escova com creme dental sabor bubble fruit...           Colgate   \n",
       "2               Shampoo crescimento forte desde a raiz  Head & Shoulders   \n",
       "3               Shampoo crescimento forte desde a raiz  Head & Shoulders   \n",
       "4                   Shampoo PRO-V bambu Nutre e Cresce           Pantene   \n",
       "..                                                 ...               ...   \n",
       "490               Limpador concentrado perfumado pinho             Coala   \n",
       "491                     Limpador Perfumado Rose Petals             Sanol   \n",
       "492                         Limpador perfumado lavanda             Sanol   \n",
       "493                                Limpador para forno       Diabo Verde   \n",
       "494                                   Limpador líquido          Lysoclin   \n",
       "\n",
       "     price  package   store_name store_city          search_term  \n",
       "0    24.90  2 itens   Droga Raia        FLN            Tamarillo  \n",
       "1    27.49  2 itens       Panvel        FLN            Tamarillo  \n",
       "2    33.58    400ml  Pague Menos        FLN           Raiz-forte  \n",
       "3    22.03    200ml  Pague Menos        FLN           Raiz-forte  \n",
       "4    29.38    400ml  Pague Menos        FLN           Raiz-forte  \n",
       "..     ...      ...          ...        ...                  ...  \n",
       "490  17.90    120ml       Cobasi        FLN  Limpador de Cozinha  \n",
       "491   6.90    500ml       Cobasi        FLN  Limpador de Cozinha  \n",
       "492   6.90    500ml       Cobasi        FLN  Limpador de Cozinha  \n",
       "493  33.90    440ml       Cobasi        FLN  Limpador de Cozinha  \n",
       "494  13.90       1l       Cobasi        FLN  Limpador de Cozinha  \n",
       "\n",
       "[495 rows x 9 columns]"
      ]
     },
     "execution_count": 51,
     "metadata": {},
     "output_type": "execute_result"
    }
   ],
   "source": [
    "df_json"
   ]
  },
  {
   "cell_type": "code",
   "execution_count": 8,
   "metadata": {},
   "outputs": [],
   "source": [
    "query = f\"SELECT * FROM 's3://{bucket_name}/test-data/*.json'\"\n",
    "df_json = duckdb.sql(query).df()"
   ]
  },
  {
   "cell_type": "code",
   "execution_count": 10,
   "metadata": {},
   "outputs": [
    {
     "name": "stdout",
     "output_type": "stream",
     "text": [
      "<class 'pandas.core.frame.DataFrame'>\n",
      "RangeIndex: 42109 entries, 0 to 42108\n",
      "Data columns (total 9 columns):\n",
      " #   Column        Non-Null Count  Dtype         \n",
      "---  ------        --------------  -----         \n",
      " 0   date          42109 non-null  datetime64[ns]\n",
      " 1   aisle_name    42109 non-null  object        \n",
      " 2   product_name  42109 non-null  object        \n",
      " 3   brand         40441 non-null  object        \n",
      " 4   price         42109 non-null  float64       \n",
      " 5   package       42105 non-null  object        \n",
      " 6   store_name    42109 non-null  object        \n",
      " 7   store_city    42109 non-null  object        \n",
      " 8   search_term   42109 non-null  object        \n",
      "dtypes: datetime64[ns](1), float64(1), object(7)\n",
      "memory usage: 2.9+ MB\n"
     ]
    }
   ],
   "source": [
    "df_json.info()"
   ]
  },
  {
   "cell_type": "code",
   "execution_count": 57,
   "metadata": {},
   "outputs": [
    {
     "data": {
      "text/plain": [
       "'Leite'"
      ]
     },
     "execution_count": 57,
     "metadata": {},
     "output_type": "execute_result"
    }
   ],
   "source": [
    "df['search_term'][0]"
   ]
  },
  {
   "cell_type": "code",
   "execution_count": 11,
   "metadata": {},
   "outputs": [
    {
     "name": "stdout",
     "output_type": "stream",
     "text": [
      "<class 'pandas.core.frame.DataFrame'>\n",
      "RangeIndex: 976 entries, 0 to 975\n",
      "Data columns (total 9 columns):\n",
      " #   Column        Non-Null Count  Dtype  \n",
      "---  ------        --------------  -----  \n",
      " 0   date          976 non-null    object \n",
      " 1   aisle_name    976 non-null    object \n",
      " 2   product_name  976 non-null    object \n",
      " 3   brand         968 non-null    object \n",
      " 4   price         976 non-null    float64\n",
      " 5   package       976 non-null    object \n",
      " 6   store_name    976 non-null    object \n",
      " 7   store_city    976 non-null    object \n",
      " 8   search_term   976 non-null    object \n",
      "dtypes: float64(1), object(8)\n",
      "memory usage: 68.8+ KB\n"
     ]
    }
   ],
   "source": [
    "df.info()"
   ]
  },
  {
   "cell_type": "code",
   "execution_count": 19,
   "metadata": {},
   "outputs": [
    {
     "name": "stdout",
     "output_type": "stream",
     "text": [
      "<class 'pandas.core.frame.DataFrame'>\n",
      "Index: 752 entries, 0 to 975\n",
      "Data columns (total 9 columns):\n",
      " #   Column        Non-Null Count  Dtype  \n",
      "---  ------        --------------  -----  \n",
      " 0   date          752 non-null    object \n",
      " 1   aisle_name    752 non-null    object \n",
      " 2   product_name  752 non-null    object \n",
      " 3   brand         744 non-null    object \n",
      " 4   price         752 non-null    float64\n",
      " 5   package       752 non-null    object \n",
      " 6   store_name    752 non-null    object \n",
      " 7   store_city    752 non-null    object \n",
      " 8   search_term   752 non-null    object \n",
      "dtypes: float64(1), object(8)\n",
      "memory usage: 58.8+ KB\n"
     ]
    }
   ],
   "source": [
    "df = df.drop_duplicates()\n",
    "df = df.fillna(0)\n",
    "df.info()"
   ]
  },
  {
   "cell_type": "code",
   "execution_count": 55,
   "metadata": {},
   "outputs": [
    {
     "data": {
      "text/plain": [
       "'Leite'"
      ]
     },
     "execution_count": 55,
     "metadata": {},
     "output_type": "execute_result"
    }
   ],
   "source": [
    "df.search_term[0]"
   ]
  },
  {
   "cell_type": "code",
   "execution_count": 64,
   "metadata": {},
   "outputs": [],
   "source": [
    "query = f\"SELECT * FROM 's3://{bucket_name}/bronze/*/*/*/*/*.parquet'\"\n",
    "df_bronze_210723 = duckdb.sql(query).df()\n",
    "\n"
   ]
  },
  {
   "cell_type": "code",
   "execution_count": 63,
   "metadata": {},
   "outputs": [
    {
     "data": {
      "text/plain": [
       "array(['haribo', 'm&m', 'twix'], dtype=object)"
      ]
     },
     "execution_count": 63,
     "metadata": {},
     "output_type": "execute_result"
    }
   ],
   "source": [
    "df_bronze_210723.search_term.unique()"
   ]
  },
  {
   "cell_type": "code",
   "execution_count": 33,
   "metadata": {},
   "outputs": [],
   "source": [
    "conn = duckdb.connect(database=\":memory:\", read_only=False)\n",
    "conn.sql(\"INSTALL httpfs\")\n",
    "conn.sql(\"LOAD httpfs\")\n",
    "conn.sql(f\"SET s3_access_key_id='{access}'\")\n",
    "conn.sql(f\"SET s3_secret_access_key='{secret}'\")\n",
    "conn.sql(\"SET s3_endpoint='storage.googleapis.com'\")\n",
    "conn.sql(\"CREATE TABLE table_test AS SELECT * FROM df\")\n",
    "conn.sql(f\"COPY table_test TO 's3://{bucket_name}/silver-data/table_test.parquet' (FORMAT PARQUET);\")"
   ]
  },
  {
   "cell_type": "markdown",
   "metadata": {},
   "source": [
    "## /bronze"
   ]
  },
  {
   "cell_type": "code",
   "execution_count": 65,
   "metadata": {},
   "outputs": [],
   "source": [
    "query = f\"SELECT * FROM 's3://{bucket_name}/bronze/*/*/*/*/*/*.parquet'\"\n",
    "df_bronze = duckdb.sql(query).df()"
   ]
  },
  {
   "cell_type": "code",
   "execution_count": 66,
   "metadata": {},
   "outputs": [
    {
     "name": "stdout",
     "output_type": "stream",
     "text": [
      "<class 'pandas.core.frame.DataFrame'>\n",
      "RangeIndex: 250 entries, 0 to 249\n",
      "Data columns (total 9 columns):\n",
      " #   Column        Non-Null Count  Dtype  \n",
      "---  ------        --------------  -----  \n",
      " 0   date          250 non-null    object \n",
      " 1   aisle_name    250 non-null    object \n",
      " 2   product_name  250 non-null    object \n",
      " 3   brand         250 non-null    object \n",
      " 4   price         250 non-null    float64\n",
      " 5   package       250 non-null    object \n",
      " 6   store_name    250 non-null    object \n",
      " 7   store_city    250 non-null    object \n",
      " 8   search_term   250 non-null    object \n",
      "dtypes: float64(1), object(8)\n",
      "memory usage: 17.7+ KB\n"
     ]
    }
   ],
   "source": [
    "df_bronze.info()"
   ]
  }
 ],
 "metadata": {
  "kernelspec": {
   "display_name": ".venv",
   "language": "python",
   "name": "python3"
  },
  "language_info": {
   "codemirror_mode": {
    "name": "ipython",
    "version": 3
   },
   "file_extension": ".py",
   "mimetype": "text/x-python",
   "name": "python",
   "nbconvert_exporter": "python",
   "pygments_lexer": "ipython3",
   "version": "3.10.0"
  },
  "orig_nbformat": 4
 },
 "nbformat": 4,
 "nbformat_minor": 2
}
